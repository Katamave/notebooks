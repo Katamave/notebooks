{
 "cells": [
  {
   "cell_type": "markdown",
   "source": [
    "<h1>Lego Notebook</h1>\n",
    "\n",
    "<p>Read colors csv</p>"
   ],
   "metadata": {
    "collapsed": false
   }
  },
  {
   "cell_type": "code",
   "execution_count": 267,
   "outputs": [
    {
     "data": {
      "text/plain": "   id            name     rgb is_trans\n0  -1         Unknown  0033B2        f\n1   0           Black  05131D        f\n2   1            Blue  0055BF        f\n3   2           Green  237841        f\n4   3  Dark Turquoise  008F9B        f",
      "text/html": "<div>\n<style scoped>\n    .dataframe tbody tr th:only-of-type {\n        vertical-align: middle;\n    }\n\n    .dataframe tbody tr th {\n        vertical-align: top;\n    }\n\n    .dataframe thead th {\n        text-align: right;\n    }\n</style>\n<table border=\"1\" class=\"dataframe\">\n  <thead>\n    <tr style=\"text-align: right;\">\n      <th></th>\n      <th>id</th>\n      <th>name</th>\n      <th>rgb</th>\n      <th>is_trans</th>\n    </tr>\n  </thead>\n  <tbody>\n    <tr>\n      <th>0</th>\n      <td>-1</td>\n      <td>Unknown</td>\n      <td>0033B2</td>\n      <td>f</td>\n    </tr>\n    <tr>\n      <th>1</th>\n      <td>0</td>\n      <td>Black</td>\n      <td>05131D</td>\n      <td>f</td>\n    </tr>\n    <tr>\n      <th>2</th>\n      <td>1</td>\n      <td>Blue</td>\n      <td>0055BF</td>\n      <td>f</td>\n    </tr>\n    <tr>\n      <th>3</th>\n      <td>2</td>\n      <td>Green</td>\n      <td>237841</td>\n      <td>f</td>\n    </tr>\n    <tr>\n      <th>4</th>\n      <td>3</td>\n      <td>Dark Turquoise</td>\n      <td>008F9B</td>\n      <td>f</td>\n    </tr>\n  </tbody>\n</table>\n</div>"
     },
     "execution_count": 267,
     "metadata": {},
     "output_type": "execute_result"
    }
   ],
   "source": [
    "import pandas as pd\n",
    "\n",
    "COLORS_FILE = 'data/colors.csv'\n",
    "\n",
    "df = pd.read_csv(COLORS_FILE)\n",
    "df.head()"
   ],
   "metadata": {
    "collapsed": false,
    "pycharm": {
     "name": "#%%\n"
    }
   }
  },
  {
   "cell_type": "code",
   "execution_count": 268,
   "outputs": [
    {
     "data": {
      "text/plain": "124"
     },
     "execution_count": 268,
     "metadata": {},
     "output_type": "execute_result"
    }
   ],
   "source": [
    "df['rgb'].nunique()"
   ],
   "metadata": {
    "collapsed": false,
    "pycharm": {
     "name": "#%%\n"
    }
   }
  },
  {
   "cell_type": "code",
   "execution_count": 269,
   "outputs": [
    {
     "data": {
      "text/plain": "(107, 4)"
     },
     "execution_count": 269,
     "metadata": {},
     "output_type": "execute_result"
    }
   ],
   "source": [
    "opaque_df = df.loc[df['is_trans']=='f']\n",
    "opaque_df.shape\n"
   ],
   "metadata": {
    "collapsed": false,
    "pycharm": {
     "name": "#%%\n"
    }
   }
  },
  {
   "cell_type": "code",
   "execution_count": 270,
   "outputs": [
    {
     "data": {
      "text/plain": "(28, 4)"
     },
     "execution_count": 270,
     "metadata": {},
     "output_type": "execute_result"
    }
   ],
   "source": [
    "trans_df = df.loc[df.is_trans == 't']\n",
    "trans_df.shape"
   ],
   "metadata": {
    "collapsed": false,
    "pycharm": {
     "name": "#%%\n"
    }
   }
  },
  {
   "cell_type": "code",
   "execution_count": 271,
   "outputs": [
    {
     "data": {
      "text/plain": "f    107\nt     28\nName: is_trans, dtype: int64"
     },
     "execution_count": 271,
     "metadata": {},
     "output_type": "execute_result"
    }
   ],
   "source": [
    "df.is_trans.value_counts()\n"
   ],
   "metadata": {
    "collapsed": false,
    "pycharm": {
     "name": "#%%\n"
    }
   }
  },
  {
   "cell_type": "code",
   "execution_count": 272,
   "outputs": [
    {
     "data": {
      "text/plain": "           id  name  rgb\nis_trans                \nf         107   107  107\nt          28    28   28",
      "text/html": "<div>\n<style scoped>\n    .dataframe tbody tr th:only-of-type {\n        vertical-align: middle;\n    }\n\n    .dataframe tbody tr th {\n        vertical-align: top;\n    }\n\n    .dataframe thead th {\n        text-align: right;\n    }\n</style>\n<table border=\"1\" class=\"dataframe\">\n  <thead>\n    <tr style=\"text-align: right;\">\n      <th></th>\n      <th>id</th>\n      <th>name</th>\n      <th>rgb</th>\n    </tr>\n    <tr>\n      <th>is_trans</th>\n      <th></th>\n      <th></th>\n      <th></th>\n    </tr>\n  </thead>\n  <tbody>\n    <tr>\n      <th>f</th>\n      <td>107</td>\n      <td>107</td>\n      <td>107</td>\n    </tr>\n    <tr>\n      <th>t</th>\n      <td>28</td>\n      <td>28</td>\n      <td>28</td>\n    </tr>\n  </tbody>\n</table>\n</div>"
     },
     "execution_count": 272,
     "metadata": {},
     "output_type": "execute_result"
    }
   ],
   "source": [
    "df.groupby(df.is_trans).count()\n",
    "\n"
   ],
   "metadata": {
    "collapsed": false,
    "pycharm": {
     "name": "#%%\n"
    }
   }
  },
  {
   "cell_type": "markdown",
   "source": [
    "### Understanding Lego Sets vs. Themes\n",
    "<img src=\"https://i.imgur.com/aKcwkSx.png\">\n"
   ],
   "metadata": {
    "collapsed": false
   }
  },
  {
   "cell_type": "code",
   "execution_count": 273,
   "outputs": [
    {
     "data": {
      "text/plain": "  set_num                        name  year  theme_id  num_parts\n0   001-1                       Gears  1965         1         43\n1  0011-2           Town Mini-Figures  1978        84         12\n2  0011-3  Castle 2 for 1 Bonus Offer  1987       199          0\n3  0012-1          Space Mini-Figures  1979       143         12\n4  0013-1          Space Mini-Figures  1979       143         12",
      "text/html": "<div>\n<style scoped>\n    .dataframe tbody tr th:only-of-type {\n        vertical-align: middle;\n    }\n\n    .dataframe tbody tr th {\n        vertical-align: top;\n    }\n\n    .dataframe thead th {\n        text-align: right;\n    }\n</style>\n<table border=\"1\" class=\"dataframe\">\n  <thead>\n    <tr style=\"text-align: right;\">\n      <th></th>\n      <th>set_num</th>\n      <th>name</th>\n      <th>year</th>\n      <th>theme_id</th>\n      <th>num_parts</th>\n    </tr>\n  </thead>\n  <tbody>\n    <tr>\n      <th>0</th>\n      <td>001-1</td>\n      <td>Gears</td>\n      <td>1965</td>\n      <td>1</td>\n      <td>43</td>\n    </tr>\n    <tr>\n      <th>1</th>\n      <td>0011-2</td>\n      <td>Town Mini-Figures</td>\n      <td>1978</td>\n      <td>84</td>\n      <td>12</td>\n    </tr>\n    <tr>\n      <th>2</th>\n      <td>0011-3</td>\n      <td>Castle 2 for 1 Bonus Offer</td>\n      <td>1987</td>\n      <td>199</td>\n      <td>0</td>\n    </tr>\n    <tr>\n      <th>3</th>\n      <td>0012-1</td>\n      <td>Space Mini-Figures</td>\n      <td>1979</td>\n      <td>143</td>\n      <td>12</td>\n    </tr>\n    <tr>\n      <th>4</th>\n      <td>0013-1</td>\n      <td>Space Mini-Figures</td>\n      <td>1979</td>\n      <td>143</td>\n      <td>12</td>\n    </tr>\n  </tbody>\n</table>\n</div>"
     },
     "execution_count": 273,
     "metadata": {},
     "output_type": "execute_result"
    }
   ],
   "source": [
    "sets_df = pd.read_csv('data/sets.csv')\n",
    "sets_df.head()"
   ],
   "metadata": {
    "collapsed": false,
    "pycharm": {
     "name": "#%%\n"
    }
   }
  },
  {
   "cell_type": "code",
   "execution_count": 274,
   "outputs": [
    {
     "data": {
      "text/plain": "1949"
     },
     "execution_count": 274,
     "metadata": {},
     "output_type": "execute_result"
    }
   ],
   "source": [
    "sets_df['year'].min()"
   ],
   "metadata": {
    "collapsed": false,
    "pycharm": {
     "name": "#%%\n"
    }
   }
  },
  {
   "cell_type": "code",
   "execution_count": 275,
   "outputs": [
    {
     "data": {
      "text/plain": "9521"
     },
     "execution_count": 275,
     "metadata": {},
     "output_type": "execute_result"
    }
   ],
   "source": [
    "sets_df['year'].idxmin()"
   ],
   "metadata": {
    "collapsed": false,
    "pycharm": {
     "name": "#%%\n"
    }
   }
  },
  {
   "cell_type": "code",
   "execution_count": 276,
   "outputs": [
    {
     "data": {
      "text/plain": "'Extra-Large Gift Set (ABB)'"
     },
     "execution_count": 276,
     "metadata": {},
     "output_type": "execute_result"
    }
   ],
   "source": [
    "sets_df['name'].loc[9521]"
   ],
   "metadata": {
    "collapsed": false,
    "pycharm": {
     "name": "#%%\n"
    }
   }
  },
  {
   "cell_type": "code",
   "execution_count": 277,
   "outputs": [
    {
     "data": {
      "text/plain": "      set_num  name  theme_id  num_parts\nyear                                    \n1949        5     5         5          5\n1950        6     6         6          6\n1953        4     4         4          4\n1954       14    14        14         14\n1955       28    28        28         28\n...       ...   ...       ...        ...\n2017      786   786       786        786\n2018      816   816       816        816\n2019      840   840       840        840\n2020      674   674       674        674\n2021        3     3         3          3\n\n[71 rows x 4 columns]",
      "text/html": "<div>\n<style scoped>\n    .dataframe tbody tr th:only-of-type {\n        vertical-align: middle;\n    }\n\n    .dataframe tbody tr th {\n        vertical-align: top;\n    }\n\n    .dataframe thead th {\n        text-align: right;\n    }\n</style>\n<table border=\"1\" class=\"dataframe\">\n  <thead>\n    <tr style=\"text-align: right;\">\n      <th></th>\n      <th>set_num</th>\n      <th>name</th>\n      <th>theme_id</th>\n      <th>num_parts</th>\n    </tr>\n    <tr>\n      <th>year</th>\n      <th></th>\n      <th></th>\n      <th></th>\n      <th></th>\n    </tr>\n  </thead>\n  <tbody>\n    <tr>\n      <th>1949</th>\n      <td>5</td>\n      <td>5</td>\n      <td>5</td>\n      <td>5</td>\n    </tr>\n    <tr>\n      <th>1950</th>\n      <td>6</td>\n      <td>6</td>\n      <td>6</td>\n      <td>6</td>\n    </tr>\n    <tr>\n      <th>1953</th>\n      <td>4</td>\n      <td>4</td>\n      <td>4</td>\n      <td>4</td>\n    </tr>\n    <tr>\n      <th>1954</th>\n      <td>14</td>\n      <td>14</td>\n      <td>14</td>\n      <td>14</td>\n    </tr>\n    <tr>\n      <th>1955</th>\n      <td>28</td>\n      <td>28</td>\n      <td>28</td>\n      <td>28</td>\n    </tr>\n    <tr>\n      <th>...</th>\n      <td>...</td>\n      <td>...</td>\n      <td>...</td>\n      <td>...</td>\n    </tr>\n    <tr>\n      <th>2017</th>\n      <td>786</td>\n      <td>786</td>\n      <td>786</td>\n      <td>786</td>\n    </tr>\n    <tr>\n      <th>2018</th>\n      <td>816</td>\n      <td>816</td>\n      <td>816</td>\n      <td>816</td>\n    </tr>\n    <tr>\n      <th>2019</th>\n      <td>840</td>\n      <td>840</td>\n      <td>840</td>\n      <td>840</td>\n    </tr>\n    <tr>\n      <th>2020</th>\n      <td>674</td>\n      <td>674</td>\n      <td>674</td>\n      <td>674</td>\n    </tr>\n    <tr>\n      <th>2021</th>\n      <td>3</td>\n      <td>3</td>\n      <td>3</td>\n      <td>3</td>\n    </tr>\n  </tbody>\n</table>\n<p>71 rows × 4 columns</p>\n</div>"
     },
     "execution_count": 277,
     "metadata": {},
     "output_type": "execute_result"
    }
   ],
   "source": [
    "sets_df.groupby('year').count()"
   ],
   "metadata": {
    "collapsed": false,
    "pycharm": {
     "name": "#%%\n"
    }
   }
  },
  {
   "cell_type": "code",
   "execution_count": 278,
   "outputs": [
    {
     "data": {
      "text/plain": "        set_num                           name  year  theme_id  num_parts\n15004  BIGBOX-1  The Ultimate Battle for Chima  2015       571       9987\n11183   75192-1          UCS Millennium Falcon  2017       171       7541\n10551   71043-1                Hogwarts Castle  2018       246       6020\n295     10256-1                      Taj Mahal  2017       673       5923\n221     10189-1                      Taj Mahal  2008       673       5922",
      "text/html": "<div>\n<style scoped>\n    .dataframe tbody tr th:only-of-type {\n        vertical-align: middle;\n    }\n\n    .dataframe tbody tr th {\n        vertical-align: top;\n    }\n\n    .dataframe thead th {\n        text-align: right;\n    }\n</style>\n<table border=\"1\" class=\"dataframe\">\n  <thead>\n    <tr style=\"text-align: right;\">\n      <th></th>\n      <th>set_num</th>\n      <th>name</th>\n      <th>year</th>\n      <th>theme_id</th>\n      <th>num_parts</th>\n    </tr>\n  </thead>\n  <tbody>\n    <tr>\n      <th>15004</th>\n      <td>BIGBOX-1</td>\n      <td>The Ultimate Battle for Chima</td>\n      <td>2015</td>\n      <td>571</td>\n      <td>9987</td>\n    </tr>\n    <tr>\n      <th>11183</th>\n      <td>75192-1</td>\n      <td>UCS Millennium Falcon</td>\n      <td>2017</td>\n      <td>171</td>\n      <td>7541</td>\n    </tr>\n    <tr>\n      <th>10551</th>\n      <td>71043-1</td>\n      <td>Hogwarts Castle</td>\n      <td>2018</td>\n      <td>246</td>\n      <td>6020</td>\n    </tr>\n    <tr>\n      <th>295</th>\n      <td>10256-1</td>\n      <td>Taj Mahal</td>\n      <td>2017</td>\n      <td>673</td>\n      <td>5923</td>\n    </tr>\n    <tr>\n      <th>221</th>\n      <td>10189-1</td>\n      <td>Taj Mahal</td>\n      <td>2008</td>\n      <td>673</td>\n      <td>5922</td>\n    </tr>\n  </tbody>\n</table>\n</div>"
     },
     "execution_count": 278,
     "metadata": {},
     "output_type": "execute_result"
    }
   ],
   "source": [
    "sets_df.sort_values('num_parts', ascending=False).head()"
   ],
   "metadata": {
    "collapsed": false,
    "pycharm": {
     "name": "#%%\n"
    }
   }
  },
  {
   "cell_type": "code",
   "execution_count": 279,
   "outputs": [],
   "source": [
    "import matplotlib.pyplot as plt\n",
    "\n",
    "sets_by_year = sets_df.groupby(sets_df.year).count()"
   ],
   "metadata": {
    "collapsed": false,
    "pycharm": {
     "name": "#%%\n"
    }
   }
  },
  {
   "cell_type": "code",
   "execution_count": 280,
   "outputs": [
    {
     "data": {
      "text/plain": "      set_num  name  theme_id  num_parts\nyear                                    \n1949        5     5         5          5\n1950        6     6         6          6\n1953        4     4         4          4\n1954       14    14        14         14\n1955       28    28        28         28",
      "text/html": "<div>\n<style scoped>\n    .dataframe tbody tr th:only-of-type {\n        vertical-align: middle;\n    }\n\n    .dataframe tbody tr th {\n        vertical-align: top;\n    }\n\n    .dataframe thead th {\n        text-align: right;\n    }\n</style>\n<table border=\"1\" class=\"dataframe\">\n  <thead>\n    <tr style=\"text-align: right;\">\n      <th></th>\n      <th>set_num</th>\n      <th>name</th>\n      <th>theme_id</th>\n      <th>num_parts</th>\n    </tr>\n    <tr>\n      <th>year</th>\n      <th></th>\n      <th></th>\n      <th></th>\n      <th></th>\n    </tr>\n  </thead>\n  <tbody>\n    <tr>\n      <th>1949</th>\n      <td>5</td>\n      <td>5</td>\n      <td>5</td>\n      <td>5</td>\n    </tr>\n    <tr>\n      <th>1950</th>\n      <td>6</td>\n      <td>6</td>\n      <td>6</td>\n      <td>6</td>\n    </tr>\n    <tr>\n      <th>1953</th>\n      <td>4</td>\n      <td>4</td>\n      <td>4</td>\n      <td>4</td>\n    </tr>\n    <tr>\n      <th>1954</th>\n      <td>14</td>\n      <td>14</td>\n      <td>14</td>\n      <td>14</td>\n    </tr>\n    <tr>\n      <th>1955</th>\n      <td>28</td>\n      <td>28</td>\n      <td>28</td>\n      <td>28</td>\n    </tr>\n  </tbody>\n</table>\n</div>"
     },
     "execution_count": 280,
     "metadata": {},
     "output_type": "execute_result"
    }
   ],
   "source": [
    "sets_by_year.head()"
   ],
   "metadata": {
    "collapsed": false,
    "pycharm": {
     "name": "#%%\n"
    }
   }
  },
  {
   "cell_type": "code",
   "execution_count": 281,
   "outputs": [
    {
     "data": {
      "text/plain": "      set_num  name  theme_id  num_parts\nyear                                    \n2017      786   786       786        786\n2018      816   816       816        816\n2019      840   840       840        840\n2020      674   674       674        674\n2021        3     3         3          3",
      "text/html": "<div>\n<style scoped>\n    .dataframe tbody tr th:only-of-type {\n        vertical-align: middle;\n    }\n\n    .dataframe tbody tr th {\n        vertical-align: top;\n    }\n\n    .dataframe thead th {\n        text-align: right;\n    }\n</style>\n<table border=\"1\" class=\"dataframe\">\n  <thead>\n    <tr style=\"text-align: right;\">\n      <th></th>\n      <th>set_num</th>\n      <th>name</th>\n      <th>theme_id</th>\n      <th>num_parts</th>\n    </tr>\n    <tr>\n      <th>year</th>\n      <th></th>\n      <th></th>\n      <th></th>\n      <th></th>\n    </tr>\n  </thead>\n  <tbody>\n    <tr>\n      <th>2017</th>\n      <td>786</td>\n      <td>786</td>\n      <td>786</td>\n      <td>786</td>\n    </tr>\n    <tr>\n      <th>2018</th>\n      <td>816</td>\n      <td>816</td>\n      <td>816</td>\n      <td>816</td>\n    </tr>\n    <tr>\n      <th>2019</th>\n      <td>840</td>\n      <td>840</td>\n      <td>840</td>\n      <td>840</td>\n    </tr>\n    <tr>\n      <th>2020</th>\n      <td>674</td>\n      <td>674</td>\n      <td>674</td>\n      <td>674</td>\n    </tr>\n    <tr>\n      <th>2021</th>\n      <td>3</td>\n      <td>3</td>\n      <td>3</td>\n      <td>3</td>\n    </tr>\n  </tbody>\n</table>\n</div>"
     },
     "execution_count": 281,
     "metadata": {},
     "output_type": "execute_result"
    }
   ],
   "source": [
    "sets_by_year.tail()"
   ],
   "metadata": {
    "collapsed": false,
    "pycharm": {
     "name": "#%%\n"
    }
   }
  },
  {
   "cell_type": "code",
   "execution_count": 282,
   "outputs": [
    {
     "data": {
      "text/plain": "[<matplotlib.lines.Line2D at 0x7f5e531c8eb0>]"
     },
     "execution_count": 282,
     "metadata": {},
     "output_type": "execute_result"
    },
    {
     "data": {
      "text/plain": "<Figure size 432x288 with 1 Axes>",
      "image/png": "[encoded data removed]"
     },
     "metadata": {
      "needs_background": "light"
     },
     "output_type": "display_data"
    }
   ],
   "source": [
    "plt.plot(sets_by_year.index[:-2], sets_by_year.set_num[:-2])"
   ],
   "metadata": {
    "collapsed": false,
    "pycharm": {
     "name": "#%%\n"
    }
   }
  },
  {
   "cell_type": "code",
   "execution_count": 283,
   "outputs": [
    {
     "data": {
      "text/plain": "name   Spectre  'Where Are My Pants?' Guy  (Me and My) Birthday  \\\nyear                                                              \n1949       NaN                        NaN                   NaN   \n1950       NaN                        NaN                   NaN   \n1953       NaN                        NaN                   NaN   \n1954       NaN                        NaN                   NaN   \n1955       NaN                        NaN                   NaN   \n...        ...                        ...                   ...   \n2017       NaN                        NaN                   NaN   \n2018       NaN                        NaN                   NaN   \n2019       NaN                        NaN                   NaN   \n2020       NaN                        NaN                   NaN   \n2021       NaN                        NaN                   NaN   \n\nname  (Patty's) Pony Stable  1 stud Blue Storage Brick  \\\nyear                                                     \n1949                    NaN                        NaN   \n1950                    NaN                        NaN   \n1953                    NaN                        NaN   \n1954                    NaN                        NaN   \n1955                    NaN                        NaN   \n...                     ...                        ...   \n2017                    NaN                        NaN   \n2018                    NaN                        NaN   \n2019                    NaN                        NaN   \n2020                    NaN                        NaN   \n2021                    NaN                        NaN   \n\nname  1 stud Red Storage Brick  1 x 1 Bricks  \\\nyear                                           \n1949                       NaN           NaN   \n1950                       NaN           NaN   \n1953                       NaN           NaN   \n1954                       NaN           NaN   \n1955                       NaN         160.0   \n...                        ...           ...   \n2017                       NaN           NaN   \n2018                       NaN           NaN   \n2019                       NaN           NaN   \n2020                       NaN           NaN   \n2021                       NaN           NaN   \n\nname  1 x 1 Bricks with Letters (System)  1 x 1 Bricks with Numbers (System)  \\\nyear                                                                           \n1949                                 NaN                                 NaN   \n1950                                 NaN                                 NaN   \n1953                                 NaN                                 NaN   \n1954                                 NaN                                 NaN   \n1955                                 NaN                                 NaN   \n...                                  ...                                 ...   \n2017                                 NaN                                 NaN   \n2018                                 NaN                                 NaN   \n2019                                 NaN                                 NaN   \n2020                                 NaN                                 NaN   \n2021                                 NaN                                 NaN   \n\nname  1 x 1 Round Bricks  ...  Zorch  eLAB Renewable Energy Set  \\\nyear                      ...                                     \n1949                 NaN  ...    NaN                        NaN   \n1950                 NaN  ...    NaN                        NaN   \n1953                 NaN  ...    NaN                        NaN   \n1954                 NaN  ...    NaN                        NaN   \n1955               200.0  ...    NaN                        NaN   \n...                  ...  ...    ...                        ...   \n2017                 NaN  ...    NaN                        NaN   \n2018                 NaN  ...    NaN                        NaN   \n2019                 NaN  ...    NaN                        NaN   \n2020                 NaN  ...    NaN                        NaN   \n2021                 NaN  ...    NaN                        NaN   \n\nname  garmadon, Garmadon, GARMADON!  \\\nyear                                  \n1949                            NaN   \n1950                            NaN   \n1953                            NaN   \n1954                            NaN   \n1955                            NaN   \n...                             ...   \n2017                            NaN   \n2018                          829.0   \n2019                            NaN   \n2020                            NaN   \n2021                            NaN   \n\nname  iFountain (Lego / Coca-Cola Employee Exclusive)  racer polybag  \\\nyear                                                                   \n1949                                              NaN            NaN   \n1950                                              NaN            NaN   \n1953                                              NaN            NaN   \n1954                                              NaN            NaN   \n1955                                              NaN            NaN   \n...                                               ...            ...   \n2017                                              NaN            NaN   \n2018                                              NaN            NaN   \n2019                                              NaN            NaN   \n2020                                              NaN            NaN   \n2021                                              NaN            NaN   \n\nname  {Aeroplane}  {Basic Promotional Set}  {Ducks}  {Red Race Car Number 3}  \\\nyear                                                                           \n1949          NaN                      NaN      NaN                      NaN   \n1950          NaN                      NaN      NaN                      NaN   \n1953          NaN                      NaN      NaN                      NaN   \n1954          NaN                      NaN      NaN                      NaN   \n1955          NaN                      NaN      NaN                      NaN   \n...           ...                      ...      ...                      ...   \n2017          NaN                      NaN      NaN                      NaN   \n2018          NaN                      NaN      NaN                      NaN   \n2019          NaN                      NaN      NaN                      NaN   \n2020          NaN                      NaN      NaN                      NaN   \n2021          NaN                      NaN      NaN                      NaN   \n\nname  {Roadplates and Scenery}  \nyear                            \n1949                       NaN  \n1950                       NaN  \n1953                       NaN  \n1954                       NaN  \n1955                       NaN  \n...                        ...  \n2017                       NaN  \n2018                       NaN  \n2019                       NaN  \n2020                       NaN  \n2021                       NaN  \n\n[71 rows x 13437 columns]",
      "text/html": "<div>\n<style scoped>\n    .dataframe tbody tr th:only-of-type {\n        vertical-align: middle;\n    }\n\n    .dataframe tbody tr th {\n        vertical-align: top;\n    }\n\n    .dataframe thead th {\n        text-align: right;\n    }\n</style>\n<table border=\"1\" class=\"dataframe\">\n  <thead>\n    <tr style=\"text-align: right;\">\n      <th>name</th>\n      <th>Spectre</th>\n      <th>'Where Are My Pants?' Guy</th>\n      <th>(Me and My) Birthday</th>\n      <th>(Patty's) Pony Stable</th>\n      <th>1 stud Blue Storage Brick</th>\n      <th>1 stud Red Storage Brick</th>\n      <th>1 x 1 Bricks</th>\n      <th>1 x 1 Bricks with Letters (System)</th>\n      <th>1 x 1 Bricks with Numbers (System)</th>\n      <th>1 x 1 Round Bricks</th>\n      <th>...</th>\n      <th>Zorch</th>\n      <th>eLAB Renewable Energy Set</th>\n      <th>garmadon, Garmadon, GARMADON!</th>\n      <th>iFountain (Lego / Coca-Cola Employee Exclusive)</th>\n      <th>racer polybag</th>\n      <th>{Aeroplane}</th>\n      <th>{Basic Promotional Set}</th>\n      <th>{Ducks}</th>\n      <th>{Red Race Car Number 3}</th>\n      <th>{Roadplates and Scenery}</th>\n    </tr>\n    <tr>\n      <th>year</th>\n      <th></th>\n      <th></th>\n      <th></th>\n      <th></th>\n      <th></th>\n      <th></th>\n      <th></th>\n      <th></th>\n      <th></th>\n      <th></th>\n      <th></th>\n      <th></th>\n      <th></th>\n      <th></th>\n      <th></th>\n      <th></th>\n      <th></th>\n      <th></th>\n      <th></th>\n      <th></th>\n      <th></th>\n    </tr>\n  </thead>\n  <tbody>\n    <tr>\n      <th>1949</th>\n      <td>NaN</td>\n      <td>NaN</td>\n      <td>NaN</td>\n      <td>NaN</td>\n      <td>NaN</td>\n      <td>NaN</td>\n      <td>NaN</td>\n      <td>NaN</td>\n      <td>NaN</td>\n      <td>NaN</td>\n      <td>...</td>\n      <td>NaN</td>\n      <td>NaN</td>\n      <td>NaN</td>\n      <td>NaN</td>\n      <td>NaN</td>\n      <td>NaN</td>\n      <td>NaN</td>\n      <td>NaN</td>\n      <td>NaN</td>\n      <td>NaN</td>\n    </tr>\n    <tr>\n      <th>1950</th>\n      <td>NaN</td>\n      <td>NaN</td>\n      <td>NaN</td>\n      <td>NaN</td>\n      <td>NaN</td>\n      <td>NaN</td>\n      <td>NaN</td>\n      <td>NaN</td>\n      <td>NaN</td>\n      <td>NaN</td>\n      <td>...</td>\n      <td>NaN</td>\n      <td>NaN</td>\n      <td>NaN</td>\n      <td>NaN</td>\n      <td>NaN</td>\n      <td>NaN</td>\n      <td>NaN</td>\n      <td>NaN</td>\n      <td>NaN</td>\n      <td>NaN</td>\n    </tr>\n    <tr>\n      <th>1953</th>\n      <td>NaN</td>\n      <td>NaN</td>\n      <td>NaN</td>\n      <td>NaN</td>\n      <td>NaN</td>\n      <td>NaN</td>\n      <td>NaN</td>\n      <td>NaN</td>\n      <td>NaN</td>\n      <td>NaN</td>\n      <td>...</td>\n      <td>NaN</td>\n      <td>NaN</td>\n      <td>NaN</td>\n      <td>NaN</td>\n      <td>NaN</td>\n      <td>NaN</td>\n      <td>NaN</td>\n      <td>NaN</td>\n      <td>NaN</td>\n      <td>NaN</td>\n    </tr>\n    <tr>\n      <th>1954</th>\n      <td>NaN</td>\n      <td>NaN</td>\n      <td>NaN</td>\n      <td>NaN</td>\n      <td>NaN</td>\n      <td>NaN</td>\n      <td>NaN</td>\n      <td>NaN</td>\n      <td>NaN</td>\n      <td>NaN</td>\n      <td>...</td>\n      <td>NaN</td>\n      <td>NaN</td>\n      <td>NaN</td>\n      <td>NaN</td>\n      <td>NaN</td>\n      <td>NaN</td>\n      <td>NaN</td>\n      <td>NaN</td>\n      <td>NaN</td>\n      <td>NaN</td>\n    </tr>\n    <tr>\n      <th>1955</th>\n      <td>NaN</td>\n      <td>NaN</td>\n      <td>NaN</td>\n      <td>NaN</td>\n      <td>NaN</td>\n      <td>NaN</td>\n      <td>160.0</td>\n      <td>NaN</td>\n      <td>NaN</td>\n      <td>200.0</td>\n      <td>...</td>\n      <td>NaN</td>\n      <td>NaN</td>\n      <td>NaN</td>\n      <td>NaN</td>\n      <td>NaN</td>\n      <td>NaN</td>\n      <td>NaN</td>\n      <td>NaN</td>\n      <td>NaN</td>\n      <td>NaN</td>\n    </tr>\n    <tr>\n      <th>...</th>\n      <td>...</td>\n      <td>...</td>\n      <td>...</td>\n      <td>...</td>\n      <td>...</td>\n      <td>...</td>\n      <td>...</td>\n      <td>...</td>\n      <td>...</td>\n      <td>...</td>\n      <td>...</td>\n      <td>...</td>\n      <td>...</td>\n      <td>...</td>\n      <td>...</td>\n      <td>...</td>\n      <td>...</td>\n      <td>...</td>\n      <td>...</td>\n      <td>...</td>\n      <td>...</td>\n    </tr>\n    <tr>\n      <th>2017</th>\n      <td>NaN</td>\n      <td>NaN</td>\n      <td>NaN</td>\n      <td>NaN</td>\n      <td>NaN</td>\n      <td>NaN</td>\n      <td>NaN</td>\n      <td>NaN</td>\n      <td>NaN</td>\n      <td>NaN</td>\n      <td>...</td>\n      <td>NaN</td>\n      <td>NaN</td>\n      <td>NaN</td>\n      <td>NaN</td>\n      <td>NaN</td>\n      <td>NaN</td>\n      <td>NaN</td>\n      <td>NaN</td>\n      <td>NaN</td>\n      <td>NaN</td>\n    </tr>\n    <tr>\n      <th>2018</th>\n      <td>NaN</td>\n      <td>NaN</td>\n      <td>NaN</td>\n      <td>NaN</td>\n      <td>NaN</td>\n      <td>NaN</td>\n      <td>NaN</td>\n      <td>NaN</td>\n      <td>NaN</td>\n      <td>NaN</td>\n      <td>...</td>\n      <td>NaN</td>\n      <td>NaN</td>\n      <td>829.0</td>\n      <td>NaN</td>\n      <td>NaN</td>\n      <td>NaN</td>\n      <td>NaN</td>\n      <td>NaN</td>\n      <td>NaN</td>\n      <td>NaN</td>\n    </tr>\n    <tr>\n      <th>2019</th>\n      <td>NaN</td>\n      <td>NaN</td>\n      <td>NaN</td>\n      <td>NaN</td>\n      <td>NaN</td>\n      <td>NaN</td>\n      <td>NaN</td>\n      <td>NaN</td>\n      <td>NaN</td>\n      <td>NaN</td>\n      <td>...</td>\n      <td>NaN</td>\n      <td>NaN</td>\n      <td>NaN</td>\n      <td>NaN</td>\n      <td>NaN</td>\n      <td>NaN</td>\n      <td>NaN</td>\n      <td>NaN</td>\n      <td>NaN</td>\n      <td>NaN</td>\n    </tr>\n    <tr>\n      <th>2020</th>\n      <td>NaN</td>\n      <td>NaN</td>\n      <td>NaN</td>\n      <td>NaN</td>\n      <td>NaN</td>\n      <td>NaN</td>\n      <td>NaN</td>\n      <td>NaN</td>\n      <td>NaN</td>\n      <td>NaN</td>\n      <td>...</td>\n      <td>NaN</td>\n      <td>NaN</td>\n      <td>NaN</td>\n      <td>NaN</td>\n      <td>NaN</td>\n      <td>NaN</td>\n      <td>NaN</td>\n      <td>NaN</td>\n      <td>NaN</td>\n      <td>NaN</td>\n    </tr>\n    <tr>\n      <th>2021</th>\n      <td>NaN</td>\n      <td>NaN</td>\n      <td>NaN</td>\n      <td>NaN</td>\n      <td>NaN</td>\n      <td>NaN</td>\n      <td>NaN</td>\n      <td>NaN</td>\n      <td>NaN</td>\n      <td>NaN</td>\n      <td>...</td>\n      <td>NaN</td>\n      <td>NaN</td>\n      <td>NaN</td>\n      <td>NaN</td>\n      <td>NaN</td>\n      <td>NaN</td>\n      <td>NaN</td>\n      <td>NaN</td>\n      <td>NaN</td>\n      <td>NaN</td>\n    </tr>\n  </tbody>\n</table>\n<p>71 rows × 13437 columns</p>\n</div>"
     },
     "execution_count": 283,
     "metadata": {},
     "output_type": "execute_result"
    }
   ],
   "source": [
    "sets_df.pivot_table(values='num_parts', columns='name', index='year')"
   ],
   "metadata": {
    "collapsed": false,
    "pycharm": {
     "name": "#%%\n"
    }
   }
  },
  {
   "cell_type": "code",
   "execution_count": 284,
   "outputs": [],
   "source": [
    "themes_by_year = sets_df.groupby('year').agg({'theme_id': pd.Series.nunique})"
   ],
   "metadata": {
    "collapsed": false,
    "pycharm": {
     "name": "#%%\n"
    }
   }
  },
  {
   "cell_type": "code",
   "execution_count": 285,
   "outputs": [
    {
     "data": {
      "text/plain": "      theme_id\nyear          \n1949         2\n1950         1\n1953         2\n1954         2\n1955         4",
      "text/html": "<div>\n<style scoped>\n    .dataframe tbody tr th:only-of-type {\n        vertical-align: middle;\n    }\n\n    .dataframe tbody tr th {\n        vertical-align: top;\n    }\n\n    .dataframe thead th {\n        text-align: right;\n    }\n</style>\n<table border=\"1\" class=\"dataframe\">\n  <thead>\n    <tr style=\"text-align: right;\">\n      <th></th>\n      <th>theme_id</th>\n    </tr>\n    <tr>\n      <th>year</th>\n      <th></th>\n    </tr>\n  </thead>\n  <tbody>\n    <tr>\n      <th>1949</th>\n      <td>2</td>\n    </tr>\n    <tr>\n      <th>1950</th>\n      <td>1</td>\n    </tr>\n    <tr>\n      <th>1953</th>\n      <td>2</td>\n    </tr>\n    <tr>\n      <th>1954</th>\n      <td>2</td>\n    </tr>\n    <tr>\n      <th>1955</th>\n      <td>4</td>\n    </tr>\n  </tbody>\n</table>\n</div>"
     },
     "execution_count": 285,
     "metadata": {},
     "output_type": "execute_result"
    }
   ],
   "source": [
    "themes_by_year.head()"
   ],
   "metadata": {
    "collapsed": false,
    "pycharm": {
     "name": "#%%\n"
    }
   }
  },
  {
   "cell_type": "code",
   "execution_count": 286,
   "outputs": [],
   "source": [
    "themes_by_year.rename(columns={'theme_id': 'nr_themes'}, inplace=True)"
   ],
   "metadata": {
    "collapsed": false,
    "pycharm": {
     "name": "#%%\n"
    }
   }
  },
  {
   "cell_type": "code",
   "execution_count": 287,
   "outputs": [
    {
     "data": {
      "text/plain": "      nr_themes\nyear           \n1949          2\n1950          1\n1953          2\n1954          2\n1955          4",
      "text/html": "<div>\n<style scoped>\n    .dataframe tbody tr th:only-of-type {\n        vertical-align: middle;\n    }\n\n    .dataframe tbody tr th {\n        vertical-align: top;\n    }\n\n    .dataframe thead th {\n        text-align: right;\n    }\n</style>\n<table border=\"1\" class=\"dataframe\">\n  <thead>\n    <tr style=\"text-align: right;\">\n      <th></th>\n      <th>nr_themes</th>\n    </tr>\n    <tr>\n      <th>year</th>\n      <th></th>\n    </tr>\n  </thead>\n  <tbody>\n    <tr>\n      <th>1949</th>\n      <td>2</td>\n    </tr>\n    <tr>\n      <th>1950</th>\n      <td>1</td>\n    </tr>\n    <tr>\n      <th>1953</th>\n      <td>2</td>\n    </tr>\n    <tr>\n      <th>1954</th>\n      <td>2</td>\n    </tr>\n    <tr>\n      <th>1955</th>\n      <td>4</td>\n    </tr>\n  </tbody>\n</table>\n</div>"
     },
     "execution_count": 287,
     "metadata": {},
     "output_type": "execute_result"
    }
   ],
   "source": [
    "themes_by_year.head()\n"
   ],
   "metadata": {
    "collapsed": false,
    "pycharm": {
     "name": "#%%\n"
    }
   }
  },
  {
   "cell_type": "code",
   "execution_count": 288,
   "outputs": [
    {
     "data": {
      "text/plain": "[<matplotlib.lines.Line2D at 0x7f5e5317c100>]"
     },
     "execution_count": 288,
     "metadata": {},
     "output_type": "execute_result"
    },
    {
     "data": {
      "text/plain": "<Figure size 432x288 with 2 Axes>",
      "image/png": "[encoded data removed]"
     },
     "metadata": {
      "needs_background": "light"
     },
     "output_type": "display_data"
    }
   ],
   "source": [
    "ax1 = plt.gca()\n",
    "ax2 = ax1.twinx()\n",
    "ax1.plot(themes_by_year.index[:-2], themes_by_year.nr_themes[:-2])\n",
    "ax2.plot(sets_by_year.index[:-2], sets_by_year.set_num[:-2], color='green')"
   ],
   "metadata": {
    "collapsed": false,
    "pycharm": {
     "name": "#%%\n"
    }
   }
  },
  {
   "cell_type": "code",
   "execution_count": 289,
   "outputs": [],
   "source": [
    "parts_per_set = sets_df.groupby('year').agg({'num_parts': pd.Series.mean })"
   ],
   "metadata": {
    "collapsed": false,
    "pycharm": {
     "name": "#%%\n"
    }
   }
  },
  {
   "cell_type": "code",
   "execution_count": 290,
   "outputs": [
    {
     "data": {
      "text/plain": "      num_parts\nyear           \n1949  99.600000\n1950   1.000000\n1953  13.500000\n1954  12.357143\n1955  36.607143",
      "text/html": "<div>\n<style scoped>\n    .dataframe tbody tr th:only-of-type {\n        vertical-align: middle;\n    }\n\n    .dataframe tbody tr th {\n        vertical-align: top;\n    }\n\n    .dataframe thead th {\n        text-align: right;\n    }\n</style>\n<table border=\"1\" class=\"dataframe\">\n  <thead>\n    <tr style=\"text-align: right;\">\n      <th></th>\n      <th>num_parts</th>\n    </tr>\n    <tr>\n      <th>year</th>\n      <th></th>\n    </tr>\n  </thead>\n  <tbody>\n    <tr>\n      <th>1949</th>\n      <td>99.600000</td>\n    </tr>\n    <tr>\n      <th>1950</th>\n      <td>1.000000</td>\n    </tr>\n    <tr>\n      <th>1953</th>\n      <td>13.500000</td>\n    </tr>\n    <tr>\n      <th>1954</th>\n      <td>12.357143</td>\n    </tr>\n    <tr>\n      <th>1955</th>\n      <td>36.607143</td>\n    </tr>\n  </tbody>\n</table>\n</div>"
     },
     "execution_count": 290,
     "metadata": {},
     "output_type": "execute_result"
    }
   ],
   "source": [
    "parts_per_set.head()"
   ],
   "metadata": {
    "collapsed": false,
    "pycharm": {
     "name": "#%%\n"
    }
   }
  },
  {
   "cell_type": "code",
   "execution_count": 291,
   "outputs": [
    {
     "data": {
      "text/plain": "<matplotlib.collections.PathCollection at 0x7f5e530fa5e0>"
     },
     "execution_count": 291,
     "metadata": {},
     "output_type": "execute_result"
    },
    {
     "data": {
      "text/plain": "<Figure size 432x288 with 1 Axes>",
      "image/png": "[encoded data removed]"
     },
     "metadata": {
      "needs_background": "light"
     },
     "output_type": "display_data"
    }
   ],
   "source": [
    "plt.scatter(parts_per_set.index, parts_per_set.num_parts)"
   ],
   "metadata": {
    "collapsed": false,
    "pycharm": {
     "name": "#%%\n"
    }
   }
  },
  {
   "cell_type": "code",
   "execution_count": 292,
   "outputs": [],
   "source": [
    "set_theme_count = sets_df['theme_id'].value_counts()"
   ],
   "metadata": {
    "collapsed": false,
    "pycharm": {
     "name": "#%%\n"
    }
   }
  },
  {
   "cell_type": "code",
   "execution_count": 293,
   "outputs": [
    {
     "data": {
      "text/plain": "158    753\n501    656\n494    398\n435    356\n503    329\nName: theme_id, dtype: int64"
     },
     "execution_count": 293,
     "metadata": {},
     "output_type": "execute_result"
    }
   ],
   "source": [
    "set_theme_count[:5]"
   ],
   "metadata": {
    "collapsed": false,
    "pycharm": {
     "name": "#%%\n"
    }
   }
  },
  {
   "cell_type": "code",
   "execution_count": 294,
   "outputs": [
    {
     "data": {
      "text/plain": "           set_num                                               name  year  \\\n850        11912-1                Star Wars: Build Your Own Adventure  2016   \n855        11920-1  Parts for Star Wars Build Your Own Adventure: ...  2019   \n1717       20006-1                            Clone Turbo Tank - Mini  2008   \n1728       20007-1                     Republic Attack Cruiser - Mini  2009   \n1738       20009-1                                AT-TE Walker - Mini  2009   \n...            ...                                                ...   ...   \n15686         VP-4            Star Wars Co-Pack of 7101 7111 and 7171  2000   \n15689         VP-8                 Star Wars Co-Pack of 7130 and 7150  2000   \n15707      XWING-1                                Mini X-Wing Fighter  2019   \n15708      XWING-2                                  X-Wing Trench Run  2019   \n15709  YODACHRON-1                    Yoda Chronicles Promotional Set  2013   \n\n       theme_id  num_parts  \n850         158         73  \n855         158         70  \n1717        158         64  \n1728        158         84  \n1738        158         94  \n...         ...        ...  \n15686       158          0  \n15689       158          0  \n15707       158         60  \n15708       158         52  \n15709       158        413  \n\n[753 rows x 5 columns]",
      "text/html": "<div>\n<style scoped>\n    .dataframe tbody tr th:only-of-type {\n        vertical-align: middle;\n    }\n\n    .dataframe tbody tr th {\n        vertical-align: top;\n    }\n\n    .dataframe thead th {\n        text-align: right;\n    }\n</style>\n<table border=\"1\" class=\"dataframe\">\n  <thead>\n    <tr style=\"text-align: right;\">\n      <th></th>\n      <th>set_num</th>\n      <th>name</th>\n      <th>year</th>\n      <th>theme_id</th>\n      <th>num_parts</th>\n    </tr>\n  </thead>\n  <tbody>\n    <tr>\n      <th>850</th>\n      <td>11912-1</td>\n      <td>Star Wars: Build Your Own Adventure</td>\n      <td>2016</td>\n      <td>158</td>\n      <td>73</td>\n    </tr>\n    <tr>\n      <th>855</th>\n      <td>11920-1</td>\n      <td>Parts for Star Wars Build Your Own Adventure: ...</td>\n      <td>2019</td>\n      <td>158</td>\n      <td>70</td>\n    </tr>\n    <tr>\n      <th>1717</th>\n      <td>20006-1</td>\n      <td>Clone Turbo Tank - Mini</td>\n      <td>2008</td>\n      <td>158</td>\n      <td>64</td>\n    </tr>\n    <tr>\n      <th>1728</th>\n      <td>20007-1</td>\n      <td>Republic Attack Cruiser - Mini</td>\n      <td>2009</td>\n      <td>158</td>\n      <td>84</td>\n    </tr>\n    <tr>\n      <th>1738</th>\n      <td>20009-1</td>\n      <td>AT-TE Walker - Mini</td>\n      <td>2009</td>\n      <td>158</td>\n      <td>94</td>\n    </tr>\n    <tr>\n      <th>...</th>\n      <td>...</td>\n      <td>...</td>\n      <td>...</td>\n      <td>...</td>\n      <td>...</td>\n    </tr>\n    <tr>\n      <th>15686</th>\n      <td>VP-4</td>\n      <td>Star Wars Co-Pack of 7101 7111 and 7171</td>\n      <td>2000</td>\n      <td>158</td>\n      <td>0</td>\n    </tr>\n    <tr>\n      <th>15689</th>\n      <td>VP-8</td>\n      <td>Star Wars Co-Pack of 7130 and 7150</td>\n      <td>2000</td>\n      <td>158</td>\n      <td>0</td>\n    </tr>\n    <tr>\n      <th>15707</th>\n      <td>XWING-1</td>\n      <td>Mini X-Wing Fighter</td>\n      <td>2019</td>\n      <td>158</td>\n      <td>60</td>\n    </tr>\n    <tr>\n      <th>15708</th>\n      <td>XWING-2</td>\n      <td>X-Wing Trench Run</td>\n      <td>2019</td>\n      <td>158</td>\n      <td>52</td>\n    </tr>\n    <tr>\n      <th>15709</th>\n      <td>YODACHRON-1</td>\n      <td>Yoda Chronicles Promotional Set</td>\n      <td>2013</td>\n      <td>158</td>\n      <td>413</td>\n    </tr>\n  </tbody>\n</table>\n<p>753 rows × 5 columns</p>\n</div>"
     },
     "execution_count": 294,
     "metadata": {},
     "output_type": "execute_result"
    }
   ],
   "source": [
    "sets_df[sets_df.theme_id == 158]"
   ],
   "metadata": {
    "collapsed": false,
    "pycharm": {
     "name": "#%%\n"
    }
   }
  },
  {
   "cell_type": "code",
   "execution_count": 295,
   "outputs": [
    {
     "data": {
      "text/plain": "   id            name  parent_id\n0   1         Technic        NaN\n1   2  Arctic Technic        1.0\n2   3     Competition        1.0\n3   4  Expert Builder        1.0\n4   5           Model        1.0",
      "text/html": "<div>\n<style scoped>\n    .dataframe tbody tr th:only-of-type {\n        vertical-align: middle;\n    }\n\n    .dataframe tbody tr th {\n        vertical-align: top;\n    }\n\n    .dataframe thead th {\n        text-align: right;\n    }\n</style>\n<table border=\"1\" class=\"dataframe\">\n  <thead>\n    <tr style=\"text-align: right;\">\n      <th></th>\n      <th>id</th>\n      <th>name</th>\n      <th>parent_id</th>\n    </tr>\n  </thead>\n  <tbody>\n    <tr>\n      <th>0</th>\n      <td>1</td>\n      <td>Technic</td>\n      <td>NaN</td>\n    </tr>\n    <tr>\n      <th>1</th>\n      <td>2</td>\n      <td>Arctic Technic</td>\n      <td>1.0</td>\n    </tr>\n    <tr>\n      <th>2</th>\n      <td>3</td>\n      <td>Competition</td>\n      <td>1.0</td>\n    </tr>\n    <tr>\n      <th>3</th>\n      <td>4</td>\n      <td>Expert Builder</td>\n      <td>1.0</td>\n    </tr>\n    <tr>\n      <th>4</th>\n      <td>5</td>\n      <td>Model</td>\n      <td>1.0</td>\n    </tr>\n  </tbody>\n</table>\n</div>"
     },
     "execution_count": 295,
     "metadata": {},
     "output_type": "execute_result"
    }
   ],
   "source": [
    "themes_df = pd.read_csv('data/themes.csv')\n",
    "themes_df.head()\n"
   ],
   "metadata": {
    "collapsed": false,
    "pycharm": {
     "name": "#%%\n"
    }
   }
  },
  {
   "cell_type": "code",
   "execution_count": 296,
   "outputs": [
    {
     "data": {
      "text/plain": "      id       name  parent_id\n150  158  Star Wars        NaN",
      "text/html": "<div>\n<style scoped>\n    .dataframe tbody tr th:only-of-type {\n        vertical-align: middle;\n    }\n\n    .dataframe tbody tr th {\n        vertical-align: top;\n    }\n\n    .dataframe thead th {\n        text-align: right;\n    }\n</style>\n<table border=\"1\" class=\"dataframe\">\n  <thead>\n    <tr style=\"text-align: right;\">\n      <th></th>\n      <th>id</th>\n      <th>name</th>\n      <th>parent_id</th>\n    </tr>\n  </thead>\n  <tbody>\n    <tr>\n      <th>150</th>\n      <td>158</td>\n      <td>Star Wars</td>\n      <td>NaN</td>\n    </tr>\n  </tbody>\n</table>\n</div>"
     },
     "execution_count": 296,
     "metadata": {},
     "output_type": "execute_result"
    }
   ],
   "source": [
    "themes_df[themes_df['id'] ==  158]"
   ],
   "metadata": {
    "collapsed": false,
    "pycharm": {
     "name": "#%%\n"
    }
   }
  },
  {
   "cell_type": "code",
   "execution_count": 297,
   "outputs": [],
   "source": [
    "\n",
    "set_theme_count = sets_df['theme_id'].value_counts()"
   ],
   "metadata": {
    "collapsed": false,
    "pycharm": {
     "name": "#%%\n"
    }
   }
  },
  {
   "cell_type": "code",
   "execution_count": 299,
   "outputs": [],
   "source": [
    "set_theme_count = pd.DataFrame({'id': set_theme_count.index, 'set_count': set_theme_count.values})"
   ],
   "metadata": {
    "collapsed": false,
    "pycharm": {
     "name": "#%%\n"
    }
   }
  },
  {
   "cell_type": "code",
   "execution_count": 300,
   "outputs": [
    {
     "data": {
      "text/plain": "    id  set_count\n0  158        753\n1  501        656\n2  494        398\n3  435        356\n4  503        329",
      "text/html": "<div>\n<style scoped>\n    .dataframe tbody tr th:only-of-type {\n        vertical-align: middle;\n    }\n\n    .dataframe tbody tr th {\n        vertical-align: top;\n    }\n\n    .dataframe thead th {\n        text-align: right;\n    }\n</style>\n<table border=\"1\" class=\"dataframe\">\n  <thead>\n    <tr style=\"text-align: right;\">\n      <th></th>\n      <th>id</th>\n      <th>set_count</th>\n    </tr>\n  </thead>\n  <tbody>\n    <tr>\n      <th>0</th>\n      <td>158</td>\n      <td>753</td>\n    </tr>\n    <tr>\n      <th>1</th>\n      <td>501</td>\n      <td>656</td>\n    </tr>\n    <tr>\n      <th>2</th>\n      <td>494</td>\n      <td>398</td>\n    </tr>\n    <tr>\n      <th>3</th>\n      <td>435</td>\n      <td>356</td>\n    </tr>\n    <tr>\n      <th>4</th>\n      <td>503</td>\n      <td>329</td>\n    </tr>\n  </tbody>\n</table>\n</div>"
     },
     "execution_count": 300,
     "metadata": {},
     "output_type": "execute_result"
    }
   ],
   "source": [
    "set_theme_count.head()"
   ],
   "metadata": {
    "collapsed": false,
    "pycharm": {
     "name": "#%%\n"
    }
   }
  },
  {
   "cell_type": "code",
   "execution_count": 301,
   "outputs": [],
   "source": [
    "merged_df = pd.merge(set_theme_count, themes_df, on='id')"
   ],
   "metadata": {
    "collapsed": false,
    "pycharm": {
     "name": "#%%\n"
    }
   }
  },
  {
   "cell_type": "code",
   "execution_count": 302,
   "outputs": [
    {
     "data": {
      "text/plain": "    id  set_count       name  parent_id\n0  158        753  Star Wars        NaN\n1  501        656       Gear        NaN\n2  494        398    Friends        NaN\n3  435        356    Ninjago        NaN\n4  503        329  Key Chain      501.0",
      "text/html": "<div>\n<style scoped>\n    .dataframe tbody tr th:only-of-type {\n        vertical-align: middle;\n    }\n\n    .dataframe tbody tr th {\n        vertical-align: top;\n    }\n\n    .dataframe thead th {\n        text-align: right;\n    }\n</style>\n<table border=\"1\" class=\"dataframe\">\n  <thead>\n    <tr style=\"text-align: right;\">\n      <th></th>\n      <th>id</th>\n      <th>set_count</th>\n      <th>name</th>\n      <th>parent_id</th>\n    </tr>\n  </thead>\n  <tbody>\n    <tr>\n      <th>0</th>\n      <td>158</td>\n      <td>753</td>\n      <td>Star Wars</td>\n      <td>NaN</td>\n    </tr>\n    <tr>\n      <th>1</th>\n      <td>501</td>\n      <td>656</td>\n      <td>Gear</td>\n      <td>NaN</td>\n    </tr>\n    <tr>\n      <th>2</th>\n      <td>494</td>\n      <td>398</td>\n      <td>Friends</td>\n      <td>NaN</td>\n    </tr>\n    <tr>\n      <th>3</th>\n      <td>435</td>\n      <td>356</td>\n      <td>Ninjago</td>\n      <td>NaN</td>\n    </tr>\n    <tr>\n      <th>4</th>\n      <td>503</td>\n      <td>329</td>\n      <td>Key Chain</td>\n      <td>501.0</td>\n    </tr>\n  </tbody>\n</table>\n</div>"
     },
     "execution_count": 302,
     "metadata": {},
     "output_type": "execute_result"
    }
   ],
   "source": [
    "merged_df.head()"
   ],
   "metadata": {
    "collapsed": false,
    "pycharm": {
     "name": "#%%\n"
    }
   }
  },
  {
   "cell_type": "code",
   "execution_count": null,
   "outputs": [],
   "source": [],
   "metadata": {
    "collapsed": false,
    "pycharm": {
     "name": "#%%\n"
    }
   }
  }
 ],
 "metadata": {
  "kernelspec": {
   "display_name": "Python 3",
   "language": "python",
   "name": "python3"
  },
  "language_info": {
   "codemirror_mode": {
    "name": "ipython",
    "version": 2
   },
   "file_extension": ".py",
   "mimetype": "text/x-python",
   "name": "python",
   "nbconvert_exporter": "python",
   "pygments_lexer": "ipython2",
   "version": "2.7.6"
  }
 },
 "nbformat": 4,
 "nbformat_minor": 0
}